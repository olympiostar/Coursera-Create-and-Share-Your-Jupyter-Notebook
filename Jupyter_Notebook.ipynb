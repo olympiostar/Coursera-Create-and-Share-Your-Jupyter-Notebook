{
  "metadata": {
    "kernelspec": {
      "name": "python",
      "display_name": "Pyolite",
      "language": "python"
    },
    "language_info": {
      "codemirror_mode": {
        "name": "python",
        "version": 3
      },
      "file_extension": ".py",
      "mimetype": "text/x-python",
      "name": "python",
      "nbconvert_exporter": "python",
      "pygments_lexer": "ipython3",
      "version": "3.8"
    }
  },
  "nbformat_minor": 4,
  "nbformat": 4,
  "cells": [
    {
      "cell_type": "markdown",
      "source": "<center>\n    <img src=\"https://s3-api.us-geo.objectstorage.softlayer.net/cf-courses-data/CognitiveClass/Logos/organization_logo/organization_logo.png\" width=\"300\" alt=\"cognitiveclass.ai logo\"  />\n</center>\n",
      "metadata": {}
    },
    {
      "cell_type": "code",
      "source": "",
      "metadata": {},
      "execution_count": null,
      "outputs": []
    },
    {
      "cell_type": "markdown",
      "source": "# My Jupyter Notebook on IBM Watson Studio",
      "metadata": {}
    },
    {
      "cell_type": "markdown",
      "source": "**Jayden Lee**  \nNetwork Engineer",
      "metadata": {}
    },
    {
      "cell_type": "markdown",
      "source": "*I am interested in data science because it is a tool that can replace our insights.*",
      "metadata": {}
    },
    {
      "cell_type": "markdown",
      "source": "### The code below is a code that displays the current time",
      "metadata": {}
    },
    {
      "cell_type": "code",
      "source": "import datetime as dt\nnow = dt.datetime.now()\nprint(now)",
      "metadata": {
        "trusted": true
      },
      "execution_count": 1,
      "outputs": [
        {
          "name": "stdout",
          "text": "2022-08-31 13:04:30.976000\n",
          "output_type": "stream"
        }
      ]
    },
    {
      "cell_type": "markdown",
      "source": "### Hyperlink\n[Google](https://www.google.co.kr)\n\n---\n\n### Image\n![Cat](https://search.pstatic.net/common/?src=http%3A%2F%2Fpost.phinf.naver.net%2FMjAxNzA1MDRfMTQx%2FMDAxNDkzODg4ODcxNjgz.z4btPaGstH2fWnZblzKcy6GLtInIxpA7aX5XiflRgFMg.vZFPH2D1ewspOkjwpkA6w8M0Nvj7jJTUmJtsqGPJd3gg.PNG%2FIEJdx4U8WBQ4EDweMldQelV8mFm0.jpg&type=b400)\n***\n\n### Table\nTable | Column 1 | Column 2 | Column 3\n---|---|---|---\nRow 1 | v1 | v2 | v3\nRow 2 | v11 | v22 | v33\n___",
      "metadata": {}
    },
    {
      "cell_type": "code",
      "source": "",
      "metadata": {},
      "execution_count": null,
      "outputs": []
    }
  ]
}